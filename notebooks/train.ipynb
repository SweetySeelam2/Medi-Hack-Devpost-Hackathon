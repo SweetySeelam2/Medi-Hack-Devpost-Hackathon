{
 "cells": [
  {
   "cell_type": "markdown",
   "id": "9ace8472-c3c3-4f3b-b3f0-243716496059",
   "metadata": {},
   "source": [
    "### 📄 License\n",
    "\n",
    "MIT (c) 2025 Sweety Seelam\n",
    "\n",
    "----"
   ]
  },
  {
   "cell_type": "markdown",
   "id": "23224584-f916-4b21-a909-61847797b21f",
   "metadata": {},
   "source": [
    "# HeartRisk Assist — Medi-Hack 2025\n",
    "\n",
    "**Tracks:** Diagnostics + Healthcare Ops (Fairness) + Mental Health (Privacy/Trust)  \n",
    "**Team:** Solo - Sweety Seelam  \n",
    "**Hackathon:** Medi-Hacks 2025 (Aug 18–23)\n",
    "\n",
    "---\n",
    "\n",
    "This notebook walks through the full pipeline:\n",
    "1. Dataset overview  \n",
    "2. Business challenge & goal  \n",
    "3. Preprocessing & model training  \n",
    "4. Calibration  \n",
    "5. Model evaluation (ROC, PR, calibration)  \n",
    "6. Fairness slices (age, sex, chest pain)  \n",
    "7. SHAP explanations  \n",
    "8. Export artifacts for the Streamlit app  \n",
    "9. Business value, interpretation & recommendations"
   ]
  },
  {
   "cell_type": "code",
   "execution_count": 1,
   "id": "0cca27a9-5233-4754-addc-56b94a3f5089",
   "metadata": {},
   "outputs": [],
   "source": [
    "# Imports\n",
    "import json, warnings, joblib\n",
    "import numpy as np, pandas as pd\n",
    "import matplotlib.pyplot as plt\n",
    "from pathlib import Path\n",
    "\n",
    "from sklearn.model_selection import train_test_split, StratifiedKFold, GridSearchCV\n",
    "from sklearn.preprocessing import StandardScaler, OneHotEncoder\n",
    "from sklearn.compose import ColumnTransformer\n",
    "from sklearn.pipeline import Pipeline\n",
    "from sklearn.linear_model import LogisticRegression\n",
    "from sklearn.ensemble import RandomForestClassifier\n",
    "from sklearn.calibration import CalibratedClassifierCV, calibration_curve\n",
    "from sklearn.metrics import roc_auc_score, average_precision_score, brier_score_loss, roc_curve, precision_recall_curve\n",
    "\n",
    "warnings.filterwarnings(\"ignore\", category=UserWarning)"
   ]
  },
  {
   "cell_type": "code",
   "execution_count": 2,
   "id": "ce41fa9a-023e-44a2-bd19-e3e15cd0cec2",
   "metadata": {},
   "outputs": [
    {
     "name": "stderr",
     "output_type": "stream",
     "text": [
      "C:\\Users\\sweet\\Desktop\\DataScience\\venvs\\medihack\\lib\\site-packages\\tqdm\\auto.py:21: TqdmWarning: IProgress not found. Please update jupyter and ipywidgets. See https://ipywidgets.readthedocs.io/en/stable/user_install.html\n",
      "  from .autonotebook import tqdm as notebook_tqdm\n"
     ]
    }
   ],
   "source": [
    "# optional shap (if installed)\n",
    "try:\n",
    "    import shap\n",
    "    SHAP_AVAILABLE = True\n",
    "except ImportError:\n",
    "    SHAP_AVAILABLE = False"
   ]
  },
  {
   "cell_type": "code",
   "execution_count": 3,
   "id": "7976e934-23d7-42ac-a6a2-6bf300afd741",
   "metadata": {},
   "outputs": [
    {
     "name": "stdout",
     "output_type": "stream",
     "text": [
      "READ: C:\\Users\\sweet\\Desktop\\DataScience\\Github projects\\Case Study-Blog-Articles-Competitions\\Online Competitions\\DevPost\\Medi-Hack-Devpost-Hackathon\\data\\heart.csv\n",
      "WRITE: C:\\Users\\sweet\\Desktop\\DataScience\\Github projects\\Case Study-Blog-Articles-Competitions\\Online Competitions\\DevPost\\Medi-Hack-Devpost-Hackathon\\artifacts\n"
     ]
    }
   ],
   "source": [
    "# ---------- Paths & seed ----------\n",
    "# ---- constants (run first in the notebook) ----\n",
    "ROOT = Path(r\"C:\\Users\\sweet\\Desktop\\DataScience\\Github projects\\Case Study-Blog-Articles-Competitions\\Online Competitions\\DevPost\\Medi-Hack-Devpost-Hackathon\")\n",
    "DATA = ROOT / \"data\" / \"heart.csv\"\n",
    "ART  = ROOT / \"artifacts\"\n",
    "ART.mkdir(parents=True, exist_ok=True)\n",
    "RANDOM_STATE = 42\n",
    "\n",
    "print(\"READ:\", DATA.resolve())\n",
    "print(\"WRITE:\", ART.resolve())\n",
    "assert DATA.exists(), f\"Missing file: {DATA}\""
   ]
  },
  {
   "cell_type": "code",
   "execution_count": 4,
   "id": "820f6f07-b899-4cc8-893e-1d7d2e43a953",
   "metadata": {},
   "outputs": [
    {
     "data": {
      "text/html": [
       "<div>\n",
       "<style scoped>\n",
       "    .dataframe tbody tr th:only-of-type {\n",
       "        vertical-align: middle;\n",
       "    }\n",
       "\n",
       "    .dataframe tbody tr th {\n",
       "        vertical-align: top;\n",
       "    }\n",
       "\n",
       "    .dataframe thead th {\n",
       "        text-align: right;\n",
       "    }\n",
       "</style>\n",
       "<table border=\"1\" class=\"dataframe\">\n",
       "  <thead>\n",
       "    <tr style=\"text-align: right;\">\n",
       "      <th></th>\n",
       "      <th>age</th>\n",
       "      <th>sex</th>\n",
       "      <th>cp</th>\n",
       "      <th>trestbps</th>\n",
       "      <th>chol</th>\n",
       "      <th>fbs</th>\n",
       "      <th>restecg</th>\n",
       "      <th>thalach</th>\n",
       "      <th>exang</th>\n",
       "      <th>oldpeak</th>\n",
       "      <th>slope</th>\n",
       "      <th>ca</th>\n",
       "      <th>thal</th>\n",
       "      <th>target</th>\n",
       "    </tr>\n",
       "  </thead>\n",
       "  <tbody>\n",
       "    <tr>\n",
       "      <th>0</th>\n",
       "      <td>52</td>\n",
       "      <td>1</td>\n",
       "      <td>0</td>\n",
       "      <td>125</td>\n",
       "      <td>212</td>\n",
       "      <td>0</td>\n",
       "      <td>1</td>\n",
       "      <td>168</td>\n",
       "      <td>0</td>\n",
       "      <td>1.0</td>\n",
       "      <td>2</td>\n",
       "      <td>2</td>\n",
       "      <td>3</td>\n",
       "      <td>0</td>\n",
       "    </tr>\n",
       "    <tr>\n",
       "      <th>1</th>\n",
       "      <td>53</td>\n",
       "      <td>1</td>\n",
       "      <td>0</td>\n",
       "      <td>140</td>\n",
       "      <td>203</td>\n",
       "      <td>1</td>\n",
       "      <td>0</td>\n",
       "      <td>155</td>\n",
       "      <td>1</td>\n",
       "      <td>3.1</td>\n",
       "      <td>0</td>\n",
       "      <td>0</td>\n",
       "      <td>3</td>\n",
       "      <td>0</td>\n",
       "    </tr>\n",
       "    <tr>\n",
       "      <th>2</th>\n",
       "      <td>70</td>\n",
       "      <td>1</td>\n",
       "      <td>0</td>\n",
       "      <td>145</td>\n",
       "      <td>174</td>\n",
       "      <td>0</td>\n",
       "      <td>1</td>\n",
       "      <td>125</td>\n",
       "      <td>1</td>\n",
       "      <td>2.6</td>\n",
       "      <td>0</td>\n",
       "      <td>0</td>\n",
       "      <td>3</td>\n",
       "      <td>0</td>\n",
       "    </tr>\n",
       "    <tr>\n",
       "      <th>3</th>\n",
       "      <td>61</td>\n",
       "      <td>1</td>\n",
       "      <td>0</td>\n",
       "      <td>148</td>\n",
       "      <td>203</td>\n",
       "      <td>0</td>\n",
       "      <td>1</td>\n",
       "      <td>161</td>\n",
       "      <td>0</td>\n",
       "      <td>0.0</td>\n",
       "      <td>2</td>\n",
       "      <td>1</td>\n",
       "      <td>3</td>\n",
       "      <td>0</td>\n",
       "    </tr>\n",
       "    <tr>\n",
       "      <th>4</th>\n",
       "      <td>62</td>\n",
       "      <td>0</td>\n",
       "      <td>0</td>\n",
       "      <td>138</td>\n",
       "      <td>294</td>\n",
       "      <td>1</td>\n",
       "      <td>1</td>\n",
       "      <td>106</td>\n",
       "      <td>0</td>\n",
       "      <td>1.9</td>\n",
       "      <td>1</td>\n",
       "      <td>3</td>\n",
       "      <td>2</td>\n",
       "      <td>0</td>\n",
       "    </tr>\n",
       "  </tbody>\n",
       "</table>\n",
       "</div>"
      ],
      "text/plain": [
       "   age  sex  cp  trestbps  chol  fbs  restecg  thalach  exang  oldpeak  slope  \\\n",
       "0   52    1   0       125   212    0        1      168      0      1.0      2   \n",
       "1   53    1   0       140   203    1        0      155      1      3.1      0   \n",
       "2   70    1   0       145   174    0        1      125      1      2.6      0   \n",
       "3   61    1   0       148   203    0        1      161      0      0.0      2   \n",
       "4   62    0   0       138   294    1        1      106      0      1.9      1   \n",
       "\n",
       "   ca  thal  target  \n",
       "0   2     3       0  \n",
       "1   0     3       0  \n",
       "2   0     3       0  \n",
       "3   1     3       0  \n",
       "4   3     2       0  "
      ]
     },
     "execution_count": 4,
     "metadata": {},
     "output_type": "execute_result"
    }
   ],
   "source": [
    "# Dataset Load & Preview\n",
    "df = pd.read_csv(DATA)\n",
    "df.head()"
   ]
  },
  {
   "cell_type": "code",
   "execution_count": 5,
   "id": "db361dc7-4587-49bb-9379-70c3c4070663",
   "metadata": {},
   "outputs": [
    {
     "name": "stdout",
     "output_type": "stream",
     "text": [
      "Rows after dropping duplicate feature rows: 302\n"
     ]
    }
   ],
   "source": [
    "# ---------- Load & de-duplicate ----------\n",
    "df = df.drop_duplicates(subset=df.columns.drop('target')).reset_index(drop=True)\n",
    "print(\"Rows after dropping duplicate feature rows:\", len(df))"
   ]
  },
  {
   "cell_type": "code",
   "execution_count": 6,
   "id": "5747e416-d4e5-42c3-92fd-c8d1b30e22f0",
   "metadata": {},
   "outputs": [],
   "source": [
    "y = df[\"target\"].astype(int)\n",
    "X = df.drop(columns=[\"target\"])"
   ]
  },
  {
   "cell_type": "code",
   "execution_count": 7,
   "id": "94763641-f663-4080-8f9c-911122897ea6",
   "metadata": {},
   "outputs": [],
   "source": [
    "# Split: train/test, then fit/val for calibration\n",
    "X_tr, X_te, y_tr, y_te = train_test_split(\n",
    "    X, y,\n",
    "    test_size=0.20,\n",
    "    stratify=y,\n",
    "    random_state=RANDOM_STATE\n",
    ")\n",
    "\n",
    "X_fit, X_val, y_fit, y_val = train_test_split(\n",
    "    X_tr, y_tr,\n",
    "    test_size=0.20,\n",
    "    stratify=y_tr,\n",
    "    random_state=RANDOM_STATE\n",
    ")"
   ]
  },
  {
   "cell_type": "code",
   "execution_count": 8,
   "id": "65dcb2d5-2afe-4b4b-8772-8b5396ceb88d",
   "metadata": {},
   "outputs": [],
   "source": [
    "# ---------- Preprocessor ----------\n",
    "num_features = [\"age\",\"trestbps\",\"chol\",\"thalach\",\"oldpeak\"]\n",
    "cat_features = [c for c in X.columns if c not in num_features]"
   ]
  },
  {
   "cell_type": "code",
   "execution_count": 9,
   "id": "eedd271c-e961-4d16-8d98-db80ae66158c",
   "metadata": {},
   "outputs": [],
   "source": [
    "# ---------- Preprocessor ----------\n",
    "pre = ColumnTransformer([\n",
    "    (\"num\", StandardScaler(), num_features),\n",
    "    (\"cat\", OneHotEncoder(handle_unknown=\"ignore\"), cat_features)\n",
    "])"
   ]
  },
  {
   "cell_type": "code",
   "execution_count": 10,
   "id": "8f607f64-3c24-4814-b8b8-9c283c868b58",
   "metadata": {},
   "outputs": [
    {
     "name": "stdout",
     "output_type": "stream",
     "text": [
      "LR  cv_auc: 0.9402 with {'clf__C': 0.1}\n"
     ]
    }
   ],
   "source": [
    "# ---------- Model A: Logistic Regression (CV over C) ----------\n",
    "pipe_lr = Pipeline([(\"pre\", pre),\n",
    "                    (\"clf\", LogisticRegression(max_iter=1000, class_weight=\"balanced\", random_state=RANDOM_STATE))])\n",
    "\n",
    "cv = StratifiedKFold(n_splits=5, shuffle=True, random_state=RANDOM_STATE)\n",
    "gs_lr = GridSearchCV(pipe_lr, {\"clf__C\":[0.1,1.0,3.0]}, scoring=\"roc_auc\", cv=cv, n_jobs=-1, refit=True)\n",
    "gs_lr.fit(X_fit, y_fit)\n",
    "print(f\"LR  cv_auc: {gs_lr.best_score_:.4f} with {gs_lr.best_params_}\")"
   ]
  },
  {
   "cell_type": "code",
   "execution_count": 11,
   "id": "606c9752-364f-4601-afe8-4f9929635a3f",
   "metadata": {},
   "outputs": [
    {
     "name": "stdout",
     "output_type": "stream",
     "text": [
      "RF  cv_auc: 0.9448 with {'clf__max_depth': 7, 'clf__min_samples_leaf': 5, 'clf__n_estimators': 200}\n"
     ]
    }
   ],
   "source": [
    "# ---------- Model B: Random Forest (constrained; CV over depth/leaves/trees) ----------\n",
    "pipe_rf = Pipeline([(\"pre\", pre),\n",
    "                    (\"clf\", RandomForestClassifier(class_weight=\"balanced\", random_state=RANDOM_STATE, n_jobs=-1))])\n",
    "grid_rf = {\"clf__n_estimators\":[200,400], \"clf__max_depth\":[3,5,7], \"clf__min_samples_leaf\":[5,10]}\n",
    "gs_rf = GridSearchCV(pipe_rf, grid_rf, scoring=\"roc_auc\", cv=cv, n_jobs=-1, refit=True)\n",
    "gs_rf.fit(X_fit, y_fit)\n",
    "print(f\"RF  cv_auc: {gs_rf.best_score_:.4f} with {gs_rf.best_params_}\")"
   ]
  },
  {
   "cell_type": "code",
   "execution_count": 12,
   "id": "dc57d235-264b-4621-a392-604b6d921474",
   "metadata": {},
   "outputs": [
    {
     "name": "stdout",
     "output_type": "stream",
     "text": [
      "Selected by CV: RF\n"
     ]
    }
   ],
   "source": [
    "# ---------- Choose best by CV ----------\n",
    "candidates = {\"LR\": gs_lr, \"RF\": gs_rf}\n",
    "best_name = max(candidates.keys(), key=lambda k: candidates[k].best_score_)\n",
    "best_gs   = candidates[best_name]\n",
    "best_pipe = best_gs.best_estimator_\n",
    "print(\"Selected by CV:\", best_name)"
   ]
  },
  {
   "cell_type": "code",
   "execution_count": 13,
   "id": "f10967aa-80ac-4f13-9563-2f9c14199430",
   "metadata": {},
   "outputs": [
    {
     "name": "stdout",
     "output_type": "stream",
     "text": [
      "TEST (RF)  AUC: 0.8782  AUPRC: 0.8857  Brier: 0.1438\n"
     ]
    }
   ],
   "source": [
    "# ---------- Calibrate on validation fold (prefit), then evaluate on test ----------\n",
    "cal = CalibratedClassifierCV(best_pipe, method=\"isotonic\", cv=\"prefit\")\n",
    "cal.fit(X_val, y_val)\n",
    "\n",
    "probs = cal.predict_proba(X_te)[:,1]\n",
    "auc   = roc_auc_score(y_te, probs)\n",
    "aupr  = average_precision_score(y_te, probs)\n",
    "brier = brier_score_loss(y_te, probs)\n",
    "print(f\"TEST ({best_name})  AUC: {auc:.4f}  AUPRC: {aupr:.4f}  Brier: {brier:.4f}\")"
   ]
  },
  {
   "cell_type": "code",
   "execution_count": 14,
   "id": "6cdaac4e-fa30-46dc-8492-12ba8362ec5d",
   "metadata": {},
   "outputs": [
    {
     "name": "stdout",
     "output_type": "stream",
     "text": [
      "AUC 95% CI: [0.789, 0.949]\n"
     ]
    }
   ],
   "source": [
    "# ---------- Bootstrap 95% CI for AUC ----------\n",
    "rng = np.random.default_rng(123)\n",
    "idx = y_te.index.to_numpy()\n",
    "aucs = []\n",
    "for _ in range(1000):\n",
    "    bs = rng.choice(idx, size=len(idx), replace=True)\n",
    "    aucs.append(roc_auc_score(y_te.loc[bs], pd.Series(probs, index=y_te.index).loc[bs]))\n",
    "auc_ci = (np.percentile(aucs, 2.5), np.percentile(aucs, 97.5))\n",
    "print(f\"AUC 95% CI: [{auc_ci[0]:.3f}, {auc_ci[1]:.3f}]\")"
   ]
  },
  {
   "cell_type": "code",
   "execution_count": 15,
   "id": "00d281be-5c9a-4951-b5f6-1bbd39150303",
   "metadata": {},
   "outputs": [
    {
     "data": {
      "image/png": "[encoded data removed]",
      "text/plain": [
       "<Figure size 640x480 with 1 Axes>"
      ]
     },
     "metadata": {},
     "output_type": "display_data"
    },
    {
     "data": {
      "image/png": "[encoded data removed]",
      "text/plain": [
       "<Figure size 640x480 with 1 Axes>"
      ]
     },
     "metadata": {},
     "output_type": "display_data"
    },
    {
     "data": {
      "image/png": "[encoded data removed]",
      "text/plain": [
       "<Figure size 640x480 with 1 Axes>"
      ]
     },
     "metadata": {},
     "output_type": "display_data"
    }
   ],
   "source": [
    "# ---------- Plots (use explicit figure handles; no blank PNGs) ----------\n",
    "def save_curves(y_true, p, outdir, aucv, auprv, brierv):\n",
    "    fpr, tpr, _ = roc_curve(y_true, p)\n",
    "    fig, ax = plt.subplots(); ax.plot(fpr, tpr, lw=2); ax.plot([0,1],[0,1],'--')\n",
    "    ax.set_title(f\"ROC (AUC={aucv:.3f})\"); ax.set_xlabel(\"FPR\"); ax.set_ylabel(\"TPR\")\n",
    "    plt.show()\n",
    "    fig.savefig(ART/\"roc.png\", dpi=200, bbox_inches=\"tight\"); plt.close(fig)\n",
    "\n",
    "    prec, rec, _ = precision_recall_curve(y_true, p)\n",
    "    fig, ax = plt.subplots(); ax.plot(rec, prec, lw=2)\n",
    "    ax.set_title(f\"PR (AUPRC={auprv:.3f})\"); ax.set_xlabel(\"Recall\"); ax.set_ylabel(\"Precision\")\n",
    "    plt.show()\n",
    "    fig.savefig(ART/\"pr.png\", dpi=200, bbox_inches=\"tight\"); plt.close(fig)\n",
    "\n",
    "    frac_pos, mean_pred = calibration_curve(y_true, p, n_bins=10, strategy=\"quantile\")\n",
    "    fig, ax = plt.subplots(); ax.plot(mean_pred, frac_pos, \"o-\"); ax.plot([0,1],[0,1],\"--\")\n",
    "    ax.set_title(f\"Reliability (Brier={brierv:.3f})\"); ax.set_xlabel(\"Mean predicted prob\"); ax.set_ylabel(\"Fraction positives\")\n",
    "    plt.show()\n",
    "    fig.savefig(ART/\"reliability.png\", dpi=200, bbox_inches=\"tight\"); plt.close(fig)\n",
    "\n",
    "save_curves(y_te, probs, ART, auc, aupr, brier)"
   ]
  },
  {
   "cell_type": "code",
   "execution_count": 16,
   "id": "193d89cf-f65f-4468-9d21-4ceb13243b34",
   "metadata": {},
   "outputs": [
    {
     "name": "stdout",
     "output_type": "stream",
     "text": [
      "\"slice_report: {'auc_by_sex': {'0': 0.8461538461538461, '1': 0.8706521739130435}, 'auc_by_age_bucket': {'45to60': 0.8777777777777778, 'gt60': 0.7523809523809524}, 'auc_by_cp': {'0': 0.8486842105263157}}, indent=2\"\n"
     ]
    }
   ],
   "source": [
    "# ---------- Fairness slices (aligned indices) ----------\n",
    "probs_s = pd.Series(probs, index=y_te.index, copy=False)\n",
    "slices = pd.DataFrame(index=y_te.index)\n",
    "slices[\"sex\"] = X.loc[y_te.index, \"sex\"].astype(int)\n",
    "slices[\"age_bucket\"] = pd.cut(X.loc[y_te.index, \"age\"], [0,45,60,120], labels=[\"lt45\",\"45to60\",\"gt60\"])\n",
    "slices[\"cp\"] = X.loc[y_te.index, \"cp\"].astype(int)\n",
    "\n",
    "def auc_by(col):\n",
    "    out = {}\n",
    "    for k, idx_g in slices.groupby(col, observed=True).groups.items():\n",
    "        idx = list(idx_g)\n",
    "        yt = y_te.loc[idx]\n",
    "        if len(idx) >= 15 and yt.nunique() == 2:\n",
    "            out[str(k)] = float(roc_auc_score(yt, probs_s.loc[idx]))\n",
    "    return out\n",
    "\n",
    "slice_report = {\n",
    "    \"auc_by_sex\": auc_by(\"sex\"),\n",
    "    \"auc_by_age_bucket\": auc_by(\"age_bucket\"),\n",
    "    \"auc_by_cp\": auc_by(\"cp\"),\n",
    "}\n",
    "print(json.dumps(f\"slice_report: {slice_report}, indent=2\"))"
   ]
  },
  {
   "cell_type": "code",
   "execution_count": 17,
   "id": "f5cc57f6-0e4f-4f0a-89dd-d281ec9da2ef",
   "metadata": {},
   "outputs": [
    {
     "data": {
      "image/png": "[encoded data removed]",
      "text/plain": [
       "<Figure size 1150x660 with 2 Axes>"
      ]
     },
     "metadata": {},
     "output_type": "display_data"
    },
    {
     "name": "stdout",
     "output_type": "stream",
     "text": [
      "Saved SHAP: C:\\Users\\sweet\\Desktop\\DataScience\\Github projects\\Case Study-Blog-Articles-Competitions\\Online Competitions\\DevPost\\Medi-Hack-Devpost-Hackathon\\artifacts\\shap_summary.png\n",
      "metrics.json updated: {'available': True, 'method': 'tree'}\n"
     ]
    }
   ],
   "source": [
    "# --- SHAP (robust for RF or LR) : display + save to artifacts/shap_summary.png\n",
    "import json, warnings, traceback\n",
    "import numpy as np\n",
    "import matplotlib.pyplot as plt\n",
    "import scipy.sparse as sp\n",
    "from sklearn.calibration import CalibratedClassifierCV\n",
    "from sklearn.pipeline import Pipeline\n",
    "\n",
    "warnings.filterwarnings(\"ignore\", category=UserWarning)\n",
    "\n",
    "def _unwrap_calibrated(model, fallback_pre):\n",
    "    \"\"\"Return (preprocessor, final_clf) from a CalibratedClassifierCV or a plain estimator.\"\"\"\n",
    "    est = model\n",
    "    if isinstance(model, CalibratedClassifierCV):\n",
    "        if getattr(model, \"calibrated_classifiers_\", None):\n",
    "            cc = model.calibrated_classifiers_[0]\n",
    "            est = getattr(cc, \"estimator\", getattr(cc, \"base_estimator\", model))\n",
    "        else:\n",
    "            est = getattr(model, \"estimator\", getattr(model, \"base_estimator\", model))\n",
    "    pre_used, clf_used = fallback_pre, est\n",
    "    if isinstance(est, Pipeline) and hasattr(est, \"named_steps\"):\n",
    "        pre_used = est.named_steps.get(\"pre\", fallback_pre)\n",
    "        clf_used = est.named_steps.get(\"clf\", est)\n",
    "    if pre_used is None:\n",
    "        raise RuntimeError(\"Preprocessor not found\")\n",
    "    return pre_used, clf_used\n",
    "\n",
    "try:\n",
    "    import shap\n",
    "\n",
    "    pre_used, clf_used = _unwrap_calibrated(cal, pre)\n",
    "\n",
    "    # transform data as the model sees it (dense arrays for plotting)\n",
    "    Xbg = pre_used.transform(X_fit.sample(min(len(X_fit), 200), random_state=RANDOM_STATE))\n",
    "    X50 = pre_used.transform(X_te.head(50))\n",
    "    if sp.issparse(Xbg): Xbg = Xbg.toarray()\n",
    "    if sp.issparse(X50): X50 = X50.toarray()\n",
    "    feat_names = pre_used.get_feature_names_out(X.columns)\n",
    "\n",
    "    # choose explainer and get SHAP values\n",
    "    if hasattr(clf_used, \"estimators_\"):            # RandomForest / tree\n",
    "        expl = shap.TreeExplainer(clf_used)         # default model_output='raw' (OK)\n",
    "        sv = expl.shap_values(X50)                  # list for binary: [neg, pos]\n",
    "        sv_to_plot = sv[1] if isinstance(sv, list) else sv\n",
    "        shap.summary_plot(sv_to_plot, X50, feature_names=feat_names, show=False)\n",
    "        shap_status = {\"available\": True, \"method\": \"tree\"}\n",
    "\n",
    "    elif hasattr(clf_used, \"coef_\"):                # Logistic Regression / linear\n",
    "        expl = shap.LinearExplainer(clf_used, Xbg)\n",
    "        # Works across SHAP versions: may return array or Explanation\n",
    "        try:\n",
    "            sv = expl(X50)                          # Explanation in newer versions\n",
    "            try:\n",
    "                # If it's an Explanation, summary_plot can take it directly\n",
    "                shap.summary_plot(sv, X50, feature_names=feat_names, show=False)\n",
    "            except Exception:\n",
    "                shap.summary_plot(sv.values, X50, feature_names=feat_names, show=False)\n",
    "        except Exception:\n",
    "            sv = expl.shap_values(X50)              # older versions return array\n",
    "            shap.summary_plot(sv, X50, feature_names=feat_names, show=False)\n",
    "        shap_status = {\"available\": True, \"method\": \"linear\"}\n",
    "\n",
    "    else:\n",
    "        raise RuntimeError(\"Unsupported model type for fast SHAP.\")\n",
    "\n",
    "    # save + show\n",
    "    fig = plt.gcf()\n",
    "    out_path = ART/\"shap_summary.png\"\n",
    "    fig.savefig(out_path, dpi=200, bbox_inches=\"tight\")\n",
    "    plt.show(); plt.close(fig)\n",
    "    print(\"Saved SHAP:\", out_path.resolve())\n",
    "\n",
    "    # mark availability so Streamlit shows it\n",
    "    try:\n",
    "        m = json.load(open(ART/\"metrics.json\"))\n",
    "    except FileNotFoundError:\n",
    "        m = {}\n",
    "    m[\"shap\"] = shap_status\n",
    "    json.dump(m, open(ART/\"metrics.json\",\"w\"), indent=2)\n",
    "    print(\"metrics.json updated:\", shap_status)\n",
    "\n",
    "except Exception as e:\n",
    "    print(\"SHAP skipped / failed:\", e)\n",
    "    traceback.print_exc()"
   ]
  },
  {
   "cell_type": "code",
   "execution_count": 18,
   "id": "2844d636-5ba9-4ce0-99c7-a0eee90a54c4",
   "metadata": {},
   "outputs": [
    {
     "name": "stdout",
     "output_type": "stream",
     "text": [
      "Saved artifacts: model.pkl, metrics.json, roc.png, pr.png, reliability.png (+ shap_summary.png if available)\n"
     ]
    }
   ],
   "source": [
    "# ---------- Save artifacts ----------\n",
    "joblib.dump({\"model\": cal, \"features\": list(X.columns), \"preprocessor\": pre}, ART/\"model.pkl\")\n",
    "\n",
    "with open(ART/\"metrics.json\",\"w\") as f:\n",
    "    json.dump({\n",
    "        \"auc\": float(auc), \"aupr\": float(aupr), \"brier\": float(brier),\n",
    "        \"auc_ci\": [float(auc_ci[0]), float(auc_ci[1])],\n",
    "        \"cv_choice\": best_name, \"cv_best_score\": float(best_gs.best_score_),\n",
    "        \"shap\": shap_status,\n",
    "        **slice_report\n",
    "    }, f, indent=2)\n",
    "\n",
    "print(\"Saved artifacts: model.pkl, metrics.json, roc.png, pr.png, reliability.png\",\n",
    "      \"(+ shap_summary.png if available)\")"
   ]
  },
  {
   "cell_type": "code",
   "execution_count": 19,
   "id": "c4e44d89-72fd-4c7a-97bb-477d858dd34a",
   "metadata": {},
   "outputs": [
    {
     "name": "stdout",
     "output_type": "stream",
     "text": [
      "True 42863 bytes\n"
     ]
    }
   ],
   "source": [
    "p = ART/\"shap_summary.png\"\n",
    "print(p.exists(), p.stat().st_size if p.exists() else 0, \"bytes\")"
   ]
  },
  {
   "cell_type": "code",
   "execution_count": 20,
   "id": "57af622a-c1ef-4798-ac4e-a3526bba3ec1",
   "metadata": {},
   "outputs": [
    {
     "name": "stdout",
     "output_type": "stream",
     "text": [
      "Artifacts dir: C:\\Users\\sweet\\Desktop\\DataScience\\Github projects\\Case Study-Blog-Articles-Competitions\\Online Competitions\\DevPost\\Medi-Hack-Devpost-Hackathon\\artifacts\n",
      "roc.png exists: True size: 51544 bytes\n",
      "pr.png exists: True size: 42637 bytes\n",
      "reliability.png exists: True size: 70582 bytes\n",
      "shap_summary.png exists: True size: 42863 bytes\n",
      "metrics.json exists: True size: 528 bytes\n",
      "model.pkl exists: True size: 522136 bytes\n"
     ]
    }
   ],
   "source": [
    "print(\"Artifacts dir:\", ART.resolve())\n",
    "for p in (ART / \"roc.png\", ART / \"pr.png\", ART / \"reliability.png\", ART / \"shap_summary.png\", ART / \"metrics.json\", ART / \"model.pkl\"):\n",
    "    print(p.name, \"exists:\", p.exists(), \"size:\", p.stat().st_size if p.exists() else 0, \"bytes\")"
   ]
  }
 ],
 "metadata": {
  "kernelspec": {
   "display_name": "Python (medihack-ext)",
   "language": "python",
   "name": "medihack_ext"
  },
  "language_info": {
   "codemirror_mode": {
    "name": "ipython",
    "version": 3
   },
   "file_extension": ".py",
   "mimetype": "text/x-python",
   "name": "python",
   "nbconvert_exporter": "python",
   "pygments_lexer": "ipython3",
   "version": "3.10.11"
  }
 },
 "nbformat": 4,
 "nbformat_minor": 5
}
